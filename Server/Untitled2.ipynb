{
 "cells": [
  {
   "cell_type": "code",
   "execution_count": 1,
   "metadata": {},
   "outputs": [
    {
     "name": "stdout",
     "output_type": "stream",
     "text": [
      "loading saved artifacts...start\n"
     ]
    },
    {
     "name": "stderr",
     "output_type": "stream",
     "text": [
      "C:\\Users\\anjan\\Anaconda3\\lib\\site-packages\\sklearn\\base.py:311: UserWarning: Trying to unpickle estimator LinearRegression from version 0.20.3 when using version 0.19.1. This might lead to breaking code or invalid results. Use at your own risk.\n",
      "  UserWarning)\n"
     ]
    },
    {
     "name": "stdout",
     "output_type": "stream",
     "text": [
      "loading saved artifacts...done\n",
      "['1st block jayanagar', '1st phase jp nagar', '2nd phase judicial layout', '2nd stage nagarbhavi', '5th block hbr layout', '5th phase jp nagar', '6th phase jp nagar', '7th phase jp nagar', '8th phase jp nagar', '9th phase jp nagar', 'aecs layout', 'abbigere', 'akshaya nagar', 'ambalipura', 'ambedkar nagar', 'amruthahalli', 'anandapura', 'ananth nagar', 'anekal', 'anjanapura', 'ardendale', 'arekere', 'attibele', 'beml layout', 'btm 2nd stage', 'btm layout', 'babusapalaya', 'badavala nagar', 'balagere', 'banashankari', 'banashankari stage ii', 'banashankari stage iii', 'banashankari stage v', 'banashankari stage vi', 'banaswadi', 'banjara layout', 'bannerghatta', 'bannerghatta road', 'basavangudi', 'basaveshwara nagar', 'battarahalli', 'begur', 'begur road', 'bellandur', 'benson town', 'bharathi nagar', 'bhoganhalli', 'billekahalli', 'binny pete', 'bisuvanahalli', 'bommanahalli', 'bommasandra', 'bommasandra industrial area', 'bommenahalli', 'brookefield', 'budigere', 'cv raman nagar', 'chamrajpet', 'chandapura', 'channasandra', 'chikka tirupathi', 'chikkabanavar', 'chikkalasandra', 'choodasandra', 'cooke town', 'cox town', 'cunningham road', 'dasanapura', 'dasarahalli', 'devanahalli', 'devarachikkanahalli', 'dodda nekkundi', 'doddaballapur', 'doddakallasandra', 'doddathoguru', 'domlur', 'dommasandra', 'epip zone', 'electronic city', 'electronic city phase ii', 'electronics city phase 1', 'frazer town', 'gm palaya', 'garudachar palya', 'giri nagar', 'gollarapalya hosahalli', 'gottigere', 'green glen layout', 'gubbalala', 'gunjur', 'hal 2nd stage', 'hbr layout', 'hrbr layout', 'hsr layout', 'haralur road', 'harlur', 'hebbal', 'hebbal kempapura', 'hegde nagar', 'hennur', 'hennur road', 'hoodi', 'horamavu agara', 'horamavu banaswadi', 'hormavu', 'hosa road', 'hosakerehalli', 'hoskote', 'hosur road', 'hulimavu', 'isro layout', 'itpl', 'iblur village', 'indira nagar', 'jp nagar', 'jakkur', 'jalahalli', 'jalahalli east', 'jigani', 'judicial layout', 'kr puram', 'kadubeesanahalli', 'kadugodi', 'kaggadasapura', 'kaggalipura', 'kaikondrahalli', 'kalena agrahara', 'kalyan nagar', 'kambipura', 'kammanahalli', 'kammasandra', 'kanakapura', 'kanakpura road', 'kannamangala', 'karuna nagar', 'kasavanhalli', 'kasturi nagar', 'kathriguppe', 'kaval byrasandra', 'kenchenahalli', 'kengeri', 'kengeri satellite town', 'kereguddadahalli', 'kodichikkanahalli', 'kodigehaali', 'kodigehalli', 'kodihalli', 'kogilu', 'konanakunte', 'koramangala', 'kothannur', 'kothanur', 'kudlu', 'kudlu gate', 'kumaraswami layout', 'kundalahalli', 'lb shastri nagar', 'laggere', 'lakshminarayana pura', 'lingadheeranahalli', 'magadi road', 'mahadevpura', 'mahalakshmi layout', 'mallasandra', 'malleshpalya', 'malleshwaram', 'marathahalli', 'margondanahalli', 'marsur', 'mico layout', 'munnekollal', 'murugeshpalya', 'mysore road', 'ngr layout', 'nri layout', 'nagarbhavi', 'nagasandra', 'nagavara', 'nagavarapalya', 'narayanapura', 'neeladri nagar', 'nehru nagar', 'ombr layout', 'old airport road', 'old madras road', 'padmanabhanagar', 'pai layout', 'panathur', 'parappana agrahara', 'pattandur agrahara', 'poorna pragna layout', 'prithvi layout', 'r.t. nagar', 'rachenahalli', 'raja rajeshwari nagar', 'rajaji nagar', 'rajiv nagar', 'ramagondanahalli', 'ramamurthy nagar', 'rayasandra', 'sahakara nagar', 'sanjay nagar', 'sarakki nagar', 'sarjapur', 'sarjapur  road', 'sarjapura - attibele road', 'sector 2 hsr layout', 'sector 7 hsr layout', 'seegehalli', 'shampura', 'shivaji nagar', 'singasandra', 'somasundara palya', 'sompura', 'sonnenahalli', 'subramanyapura', 'sultan palaya', 'tc palaya', 'talaghattapura', 'thanisandra', 'thigalarapalya', 'thubarahalli', 'tindlu', 'tumkur road', 'ulsoor', 'uttarahalli', 'varthur', 'varthur road', 'vasanthapura', 'vidyaranyapura', 'vijayanagar', 'vishveshwarya layout', 'vishwapriya layout', 'vittasandra', 'whitefield', 'yelachenahalli', 'yelahanka', 'yelahanka new town', 'yelenahalli', 'yeshwanthpur']\n",
      "86.08\n",
      "83.87\n",
      "81.42\n",
      "81.42\n"
     ]
    }
   ],
   "source": [
    "import pickle\n",
    "import json\n",
    "import numpy as np\n",
    "\n",
    "__locations = None\n",
    "__data_columns = None\n",
    "__model = None\n",
    "\n",
    "def get_estimated_price(location,sqft,bhk,bath):\n",
    "    try:\n",
    "        loc_index = __data_columns.index(location.lower())\n",
    "    except:\n",
    "        loc_index = -1\n",
    "\n",
    "    x = np.zeros(len(__data_columns))\n",
    "    x[0] = sqft\n",
    "    x[1] = bath\n",
    "    x[2] = bhk\n",
    "    if loc_index>=0:\n",
    "        x[loc_index] = 1\n",
    "\n",
    "    return round(__model.predict([x])[0],2)\n",
    "\n",
    "\n",
    "def load_saved_artifacts():\n",
    "    print(\"loading saved artifacts...start\")\n",
    "    global  __data_columns\n",
    "    global __locations\n",
    "\n",
    "    with open(\"c:/Users/anjan/Documents/BangloreHomePrices/Server/artifacts/columns.json\", \"r\") as f:\n",
    "        __data_columns = json.load(f)['data_columns']\n",
    "        __locations = __data_columns[3:]  # first 3 columns are sqft, bath, bhk\n",
    "\n",
    "    global __model\n",
    "    if __model is None:\n",
    "        with open(\"c:/Users/anjan/Documents/BangloreHomePrices/Server/artifacts/banglore_home_prices_model.pickle\", 'rb') as f:\n",
    "            __model = pickle.load(f)\n",
    "    print(\"loading saved artifacts...done\")\n",
    "\n",
    "\n",
    "def get_location_names():\n",
    "    return __locations\n",
    "\n",
    "def get_data_columns():\n",
    "    return __data_columns\n",
    "\n",
    "if __name__ == '__main__':\n",
    "    load_saved_artifacts()\n",
    "    print(get_location_names())\n",
    "    print(get_estimated_price('1st Phase JP Nagar',1000, 3, 3))\n",
    "    print(get_estimated_price('1st Phase JP Nagar', 1000, 2, 2))\n",
    "    print(get_estimated_price('Kalhalli', 1000, 2, 2)) # other location\n",
    "    print(get_estimated_price('Ejipura', 1000, 2, 2))  # other location"
   ]
  },
  {
   "cell_type": "code",
   "execution_count": 2,
   "metadata": {},
   "outputs": [
    {
     "name": "stdout",
     "output_type": "stream",
     "text": [
      "Starting Python Flask Server For Home Price Prediction...\n",
      "loading saved artifacts...start\n",
      "loading saved artifacts...done\n"
     ]
    },
    {
     "name": "stderr",
     "output_type": "stream",
     "text": [
      "C:\\Users\\anjan\\Anaconda3\\lib\\site-packages\\sklearn\\base.py:311: UserWarning: Trying to unpickle estimator LinearRegression from version 0.20.3 when using version 0.19.1. This might lead to breaking code or invalid results. Use at your own risk.\n",
      "  UserWarning)\n"
     ]
    },
    {
     "ename": "UnsupportedOperation",
     "evalue": "not writable",
     "output_type": "error",
     "traceback": [
      "\u001b[1;31m---------------------------------------------------------------------------\u001b[0m",
      "\u001b[1;31mUnsupportedOperation\u001b[0m                      Traceback (most recent call last)",
      "\u001b[1;32m<ipython-input-2-78208bfd82c4>\u001b[0m in \u001b[0;36m<module>\u001b[1;34m()\u001b[0m\n\u001b[0;32m     30\u001b[0m     \u001b[0mprint\u001b[0m\u001b[1;33m(\u001b[0m\u001b[1;34m\"Starting Python Flask Server For Home Price Prediction...\"\u001b[0m\u001b[1;33m)\u001b[0m\u001b[1;33m\u001b[0m\u001b[0m\n\u001b[0;32m     31\u001b[0m     \u001b[0mutil\u001b[0m\u001b[1;33m.\u001b[0m\u001b[0mload_saved_artifacts\u001b[0m\u001b[1;33m(\u001b[0m\u001b[1;33m)\u001b[0m\u001b[1;33m\u001b[0m\u001b[0m\n\u001b[1;32m---> 32\u001b[1;33m     \u001b[0mapp\u001b[0m\u001b[1;33m.\u001b[0m\u001b[0mrun\u001b[0m\u001b[1;33m(\u001b[0m\u001b[1;33m)\u001b[0m\u001b[1;33m\u001b[0m\u001b[0m\n\u001b[0m",
      "\u001b[1;32m~\\Anaconda3\\lib\\site-packages\\flask\\app.py\u001b[0m in \u001b[0;36mrun\u001b[1;34m(self, host, port, debug, load_dotenv, **options)\u001b[0m\n\u001b[0;32m    936\u001b[0m         \u001b[0moptions\u001b[0m\u001b[1;33m.\u001b[0m\u001b[0msetdefault\u001b[0m\u001b[1;33m(\u001b[0m\u001b[1;34m'threaded'\u001b[0m\u001b[1;33m,\u001b[0m \u001b[1;32mTrue\u001b[0m\u001b[1;33m)\u001b[0m\u001b[1;33m\u001b[0m\u001b[0m\n\u001b[0;32m    937\u001b[0m \u001b[1;33m\u001b[0m\u001b[0m\n\u001b[1;32m--> 938\u001b[1;33m         \u001b[0mcli\u001b[0m\u001b[1;33m.\u001b[0m\u001b[0mshow_server_banner\u001b[0m\u001b[1;33m(\u001b[0m\u001b[0mself\u001b[0m\u001b[1;33m.\u001b[0m\u001b[0menv\u001b[0m\u001b[1;33m,\u001b[0m \u001b[0mself\u001b[0m\u001b[1;33m.\u001b[0m\u001b[0mdebug\u001b[0m\u001b[1;33m,\u001b[0m \u001b[0mself\u001b[0m\u001b[1;33m.\u001b[0m\u001b[0mname\u001b[0m\u001b[1;33m,\u001b[0m \u001b[1;32mFalse\u001b[0m\u001b[1;33m)\u001b[0m\u001b[1;33m\u001b[0m\u001b[0m\n\u001b[0m\u001b[0;32m    939\u001b[0m \u001b[1;33m\u001b[0m\u001b[0m\n\u001b[0;32m    940\u001b[0m         \u001b[1;32mfrom\u001b[0m \u001b[0mwerkzeug\u001b[0m\u001b[1;33m.\u001b[0m\u001b[0mserving\u001b[0m \u001b[1;32mimport\u001b[0m \u001b[0mrun_simple\u001b[0m\u001b[1;33m\u001b[0m\u001b[0m\n",
      "\u001b[1;32m~\\Anaconda3\\lib\\site-packages\\flask\\cli.py\u001b[0m in \u001b[0;36mshow_server_banner\u001b[1;34m(env, debug, app_import_path, eager_loading)\u001b[0m\n\u001b[0;32m    627\u001b[0m             \u001b[0mmessage\u001b[0m \u001b[1;33m+=\u001b[0m \u001b[1;34m' (lazy loading)'\u001b[0m\u001b[1;33m\u001b[0m\u001b[0m\n\u001b[0;32m    628\u001b[0m \u001b[1;33m\u001b[0m\u001b[0m\n\u001b[1;32m--> 629\u001b[1;33m         \u001b[0mclick\u001b[0m\u001b[1;33m.\u001b[0m\u001b[0mecho\u001b[0m\u001b[1;33m(\u001b[0m\u001b[0mmessage\u001b[0m\u001b[1;33m)\u001b[0m\u001b[1;33m\u001b[0m\u001b[0m\n\u001b[0m\u001b[0;32m    630\u001b[0m \u001b[1;33m\u001b[0m\u001b[0m\n\u001b[0;32m    631\u001b[0m     \u001b[0mclick\u001b[0m\u001b[1;33m.\u001b[0m\u001b[0mecho\u001b[0m\u001b[1;33m(\u001b[0m\u001b[1;34m' * Environment: {0}'\u001b[0m\u001b[1;33m.\u001b[0m\u001b[0mformat\u001b[0m\u001b[1;33m(\u001b[0m\u001b[0menv\u001b[0m\u001b[1;33m)\u001b[0m\u001b[1;33m)\u001b[0m\u001b[1;33m\u001b[0m\u001b[0m\n",
      "\u001b[1;32m~\\Anaconda3\\lib\\site-packages\\click\\utils.py\u001b[0m in \u001b[0;36mecho\u001b[1;34m(message, file, nl, err, color)\u001b[0m\n\u001b[0;32m    257\u001b[0m \u001b[1;33m\u001b[0m\u001b[0m\n\u001b[0;32m    258\u001b[0m     \u001b[1;32mif\u001b[0m \u001b[0mmessage\u001b[0m\u001b[1;33m:\u001b[0m\u001b[1;33m\u001b[0m\u001b[0m\n\u001b[1;32m--> 259\u001b[1;33m         \u001b[0mfile\u001b[0m\u001b[1;33m.\u001b[0m\u001b[0mwrite\u001b[0m\u001b[1;33m(\u001b[0m\u001b[0mmessage\u001b[0m\u001b[1;33m)\u001b[0m\u001b[1;33m\u001b[0m\u001b[0m\n\u001b[0m\u001b[0;32m    260\u001b[0m     \u001b[0mfile\u001b[0m\u001b[1;33m.\u001b[0m\u001b[0mflush\u001b[0m\u001b[1;33m(\u001b[0m\u001b[1;33m)\u001b[0m\u001b[1;33m\u001b[0m\u001b[0m\n\u001b[0;32m    261\u001b[0m \u001b[1;33m\u001b[0m\u001b[0m\n",
      "\u001b[1;31mUnsupportedOperation\u001b[0m: not writable"
     ]
    }
   ],
   "source": [
    "from flask import Flask, request, jsonify\n",
    "import util\n",
    "\n",
    "app = Flask(__name__)\n",
    "\n",
    "@app.route('/get_location_names', methods=['GET'])\n",
    "def get_location_names():\n",
    "    response = jsonify({\n",
    "        'locations': util.get_location_names()\n",
    "    })\n",
    "    response.headers.add('Access-Control-Allow-Origin', '*')\n",
    "\n",
    "    return response\n",
    "\n",
    "@app.route('/predict_home_price', methods=['GET', 'POST'])\n",
    "def predict_home_price():\n",
    "    total_sqft = float(request.form['total_sqft'])\n",
    "    location = request.form['location']\n",
    "    bhk = int(request.form['bhk'])\n",
    "    bath = int(request.form['bath'])\n",
    "\n",
    "    response = jsonify({\n",
    "        'estimated_price': util.get_estimated_price(location,total_sqft,bhk,bath)\n",
    "    })\n",
    "    response.headers.add('Access-Control-Allow-Origin', '*')\n",
    "\n",
    "    return response\n",
    "\n",
    "if __name__ == \"__main__\":\n",
    "    print(\"Starting Python Flask Server For Home Price Prediction...\")\n",
    "    util.load_saved_artifacts()\n",
    "    app.run()"
   ]
  },
  {
   "cell_type": "code",
   "execution_count": null,
   "metadata": {},
   "outputs": [],
   "source": []
  }
 ],
 "metadata": {
  "kernelspec": {
   "display_name": "Python 3",
   "language": "python",
   "name": "python3"
  },
  "language_info": {
   "codemirror_mode": {
    "name": "ipython",
    "version": 3
   },
   "file_extension": ".py",
   "mimetype": "text/x-python",
   "name": "python",
   "nbconvert_exporter": "python",
   "pygments_lexer": "ipython3",
   "version": "3.6.5"
  }
 },
 "nbformat": 4,
 "nbformat_minor": 2
}
